{
 "cells": [
  {
   "cell_type": "markdown",
   "metadata": {},
   "source": [
    "# Neural Style Transfer — Interactive (CPU)\n",
    "Select a style from `data/style/`, enter a content image path, and run the transfer.\n",
    "This notebook imports the functions from `nst_cpu_main.py` and saves results under `outputs/runs/`."
   ]
  },
  {
   "cell_type": "code",
   "execution_count": 1,
   "metadata": {},
   "outputs": [
    {
     "name": "stdout",
     "output_type": "stream",
     "text": [
      "=== Neural Style Transfer (CPU) - Run Config ===\n",
      "content_dir: data\\content\n",
      "style_dir: data\\style\n",
      "outputs_runs_dir: outputs\\runs\n",
      "outputs_plots_dir: outputs\\plots\n",
      "metrics_dir: metrics\n",
      "image_size: 256\n",
      "steps: 100\n",
      "alpha: 1.0\n",
      "beta: 2000.0\n",
      "gamma: 10.0\n",
      "seed: 42\n",
      "resize_policy: square-resize\n",
      "learning_rate: 0.02\n",
      "log_every: 25\n",
      "check_every: 50\n",
      "early_stop_from_step: 300\n",
      "early_stop_rel_improve: 0.005\n",
      "save_every: 25\n",
      "do_sanity_tests: True\n",
      "do_batch_grid: True\n",
      "do_portfolio_gallery: True\n",
      "do_analysis_plots: True\n",
      "================================================\n"
     ]
    }
   ],
   "source": [
    "import os\n",
    "# Enforce CPU-only and quieter TF logs before importing TensorFlow inside nst\n",
    "os.environ['CUDA_VISIBLE_DEVICES'] = '-1'\n",
    "os.environ['TF_CPP_MIN_LOG_LEVEL'] = '2'\n",
    "\n",
    "from pathlib import Path\n",
    "from IPython.display import display, Markdown\n",
    "import nst_cpu_main as nst\n",
    "\n",
    "# Base configuration (edit as needed)\n",
    "cfg = nst.Config(\n",
    "    image_size=256,\n",
    "    steps=100,\n",
    "    alpha=1.0,\n",
    "    beta=2000.0,\n",
    "    gamma=10.0,\n",
    "    learning_rate=0.02,\n",
    "    save_every=25,\n",
    "    seed=42,\n",
    ")\n",
    "\n",
    "nst.ensure_dirs(cfg)\n",
    "nst.set_global_seed(cfg.seed)\n",
    "nst.print_config(cfg)\n"
   ]
  },
  {
   "cell_type": "code",
   "execution_count": 3,
   "metadata": {},
   "outputs": [
    {
     "data": {
      "application/vnd.jupyter.widget-view+json": {
       "model_id": "358b5ae62ded49b6846cd2ba41088048",
       "version_major": 2,
       "version_minor": 0
      },
      "text/plain": [
       "VBox(children=(Dropdown(description='Style:', options=(('cubism.jpg', WindowsPath('data/style/cubism.jpg')), (…"
      ]
     },
     "metadata": {},
     "output_type": "display_data"
    }
   ],
   "source": [
    "# Interactive UI (ipywidgets)\n",
    "try:\n",
    "    import ipywidgets as widgets\n",
    "    from IPython.display import display, Image as IPyImage, clear_output\n",
    "    import traceback\n",
    "\n",
    "    exts = {'.jpg', '.jpeg', '.png', '.bmp'}\n",
    "    style_files = sorted([p for p in cfg.style_dir.glob('**/*') if p.suffix.lower() in exts])\n",
    "    if not style_files:\n",
    "        print(f'No style images found in {cfg.style_dir}. Add files and re-run this cell.')\n",
    "    style_options = [(p.name, p) for p in style_files]\n",
    "\n",
    "    content_default = ''\n",
    "    content_sample = next((p for p in cfg.content_dir.glob('**/*') if p.suffix.lower() in exts), None)\n",
    "    if content_sample:\n",
    "        content_default = str(content_sample)\n",
    "\n",
    "    style_dd = widgets.Dropdown(options=style_options, description='Style:')\n",
    "    content_txt = widgets.Text(value=content_default, description='Content:')\n",
    "    size_dd = widgets.Dropdown(options=[256, 384, 512], value=cfg.image_size, description='Size:')\n",
    "    steps_it = widgets.IntText(value=cfg.steps, description='Steps:')\n",
    "    alpha_ft = widgets.FloatText(value=cfg.alpha, description='Alpha:')\n",
    "    beta_ft = widgets.FloatText(value=cfg.beta, description='Beta:')\n",
    "    gamma_ft = widgets.FloatText(value=cfg.gamma, description='Gamma:')\n",
    "    run_btn = widgets.Button(description='Run NST', button_style='primary')\n",
    "    out = widgets.Output()\n",
    "\n",
    "    def on_run_clicked(b):\n",
    "        with out:\n",
    "            out.clear_output()\n",
    "            try:\n",
    "                content_path = Path(content_txt.value).expanduser()\n",
    "                style_path = style_dd.value\n",
    "                if not content_path.exists():\n",
    "                    print(f'Content path not found: {content_path}')\n",
    "                    return\n",
    "\n",
    "                cfg2 = nst.Config(\n",
    "                    content_dir=cfg.content_dir,\n",
    "                    style_dir=cfg.style_dir,\n",
    "                    outputs_runs_dir=cfg.outputs_runs_dir,\n",
    "                    outputs_plots_dir=cfg.outputs_plots_dir,\n",
    "                    metrics_dir=cfg.metrics_dir,\n",
    "                    image_size=int(size_dd.value),\n",
    "                    steps=int(steps_it.value),\n",
    "                    alpha=float(alpha_ft.value),\n",
    "                    beta=float(beta_ft.value),\n",
    "                    gamma=float(gamma_ft.value),\n",
    "                    seed=cfg.seed,\n",
    "                    resize_policy=cfg.resize_policy,\n",
    "                    learning_rate=cfg.learning_rate,\n",
    "                    log_every=cfg.log_every,\n",
    "                    check_every=cfg.check_every,\n",
    "                    early_stop_from_step=cfg.early_stop_from_step,\n",
    "                    early_stop_rel_improve=cfg.early_stop_rel_improve,\n",
    "                    save_every=cfg.save_every,\n",
    "                )\n",
    "\n",
    "                nst.set_global_seed(cfg2.seed)\n",
    "                print(f'Running: content={content_path.name} style={style_path.name} size={cfg2.image_size}px steps={cfg2.steps} beta={cfg2.beta}')\n",
    "                nst.run_single_nst(cfg2, content_path, style_path)\n",
    "\n",
    "                # Show final image\n",
    "                base = nst._deterministic_base(cfg2, content_path.stem, style_path.stem)\n",
    "                final_path = cfg2.outputs_runs_dir / f'{base}__final.png'\n",
    "                if final_path.exists():\n",
    "                    display(IPyImage(filename=str(final_path)))\n",
    "                    print(f'Saved final: {final_path}')\n",
    "                else:\n",
    "                    print('Final image not found; check logs above.')\n",
    "            except Exception:\n",
    "                traceback.print_exc()\n",
    "\n",
    "    run_btn.on_click(on_run_clicked)\n",
    "    ui = widgets.VBox([\n",
    "        style_dd,\n",
    "        content_txt,\n",
    "        widgets.HBox([size_dd, steps_it]),\n",
    "        widgets.HBox([alpha_ft, beta_ft, gamma_ft]),\n",
    "        run_btn,\n",
    "        out\n",
    "    ])\n",
    "    display(ui)\n",
    "except ImportError:\n",
    "    print('ipywidgets not installed. You can install via: pip install ipywidgets, then restart the kernel.')\n",
    "    print('Fallback usage:')\n",
    "    print('from nst_cpu_main import run_single_nst, Config')\n",
    "    print('run_single_nst(cfg, Path(\"path/to/your/content.jpg\"), Path(\"data/style/your_style.jpg\"))')\n"
   ]
  }
 ],
 "metadata": {
  "kernelspec": {
   "display_name": "Python 3",
   "language": "python",
   "name": "python3"
  },
  "language_info": {
   "codemirror_mode": {
    "name": "ipython",
    "version": 3
   },
   "file_extension": ".py",
   "mimetype": "text/x-python",
   "name": "python",
   "nbconvert_exporter": "python",
   "pygments_lexer": "ipython3",
   "version": "3.12.4"
  }
 },
 "nbformat": 4,
 "nbformat_minor": 5
}
